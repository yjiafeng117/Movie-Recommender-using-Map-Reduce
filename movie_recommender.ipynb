{
 "cells": [
  {
   "cell_type": "markdown",
   "metadata": {},
   "source": [
    "# Movie Recommender using Map-Reduce"
   ]
  },
  {
   "cell_type": "markdown",
   "metadata": {},
   "source": [
    "## 1. Movie Recommender based on genre "
   ]
  },
  {
   "cell_type": "markdown",
   "metadata": {},
   "source": [
    "**Step-1:  Read data and data proccessing**"
   ]
  },
  {
   "cell_type": "markdown",
   "metadata": {},
   "source": [
    "Read data from ratings.csv and movie.csv then create corresponding RDDs.\n",
    "\n",
    "From the files, each line in the ratings dataset (ratings.csv) is formatted as: userId,movieId,rating,timestamp.\n",
    "Each line in the movies (movies.csv) dataset is formatted as: movieId,title,genres.\n",
    "\n",
    "To load data into RDDs, we can use Python split() to parse each line in the dataset and yield two RDDs:\n",
    "For each line in the ratings dataset, we can create a tuple of (MovieID, (UserID, Rating)).The data in the column of timestamp is dropped because it will not be needed for this recommender. \n",
    "For each line in the movies dataset, we can create a tuple of (MovieID, (Title,Genres)). \n",
    "To simplify the data processing, we can also filter out the header of each file when loadind data into RDDs."
   ]
  },
  {
   "cell_type": "code",
   "execution_count": 2,
   "metadata": {},
   "outputs": [],
   "source": [
    "rating = sc.textFile(\"ml-latest-small/ratings.csv\")\n",
    "ratingHeader = rating.take(1)[0]\n",
    "#print(ratingHeader)\n",
    "ratingRDD = rating.filter(lambda line: line!=ratingHeader).map(lambda line: line.split(\",\"))\\\n",
    ".map(lambda line: (int(line[1]),(int(line[0]),float(line[2])))).cache()\n",
    "#ratingRDD.take(10)"
   ]
  },
  {
   "cell_type": "code",
   "execution_count": 90,
   "metadata": {},
   "outputs": [],
   "source": [
    "movie = sc.textFile(\"ml-latest-small/movies.csv\")\n",
    "movieHeader = movie.take(1)[0]\n",
    "#print(movieHeader)\n",
    "movieRDD = movie.filter(lambda line: line!=movieHeader).map(lambda line: line.split(\",\"))\\\n",
    ".map(lambda line: (int(line[0]),(line[1],line[2].split(\"|\")))).cache()\n",
    "#movieRDD.take(15)"
   ]
  },
  {
   "cell_type": "markdown",
   "metadata": {},
   "source": [
    "Then join the ratingRDD and movieRDD to create a new RDD with each element in the format of a tuple of \n",
    "(MovieID, UserID, Rating, Title, Genres)."
   ]
  },
  {
   "cell_type": "code",
   "execution_count": 69,
   "metadata": {},
   "outputs": [
    {
     "data": {
      "text/plain": [
       "[(1172, 1, 4.0, 'Cinema Paradiso (Nuovo cinema Paradiso) (1989)', ['Drama']),\n",
       " (1172, 23, 5.0, 'Cinema Paradiso (Nuovo cinema Paradiso) (1989)', ['Drama']),\n",
       " (1172, 38, 4.5, 'Cinema Paradiso (Nuovo cinema Paradiso) (1989)', ['Drama']),\n",
       " (1172, 56, 2.0, 'Cinema Paradiso (Nuovo cinema Paradiso) (1989)', ['Drama']),\n",
       " (1172, 94, 3.5, 'Cinema Paradiso (Nuovo cinema Paradiso) (1989)', ['Drama']),\n",
       " (1172, 102, 4.0, 'Cinema Paradiso (Nuovo cinema Paradiso) (1989)', ['Drama']),\n",
       " (1172, 119, 4.0, 'Cinema Paradiso (Nuovo cinema Paradiso) (1989)', ['Drama']),\n",
       " (1172, 130, 4.0, 'Cinema Paradiso (Nuovo cinema Paradiso) (1989)', ['Drama']),\n",
       " (1172, 133, 5.0, 'Cinema Paradiso (Nuovo cinema Paradiso) (1989)', ['Drama']),\n",
       " (1172, 148, 5.0, 'Cinema Paradiso (Nuovo cinema Paradiso) (1989)', ['Drama'])]"
      ]
     },
     "execution_count": 69,
     "metadata": {},
     "output_type": "execute_result"
    }
   ],
   "source": [
    "newRDD = ratingRDD.join(movieRDD).map(lambda x:(x[0],x[1][0][0],x[1][0][1],x[1][1][0],x[1][1][1]))\n",
    "newRDD.take(10)"
   ]
  },
  {
   "cell_type": "markdown",
   "metadata": {},
   "source": [
    "**Step-2: Use the RDDs generated to make the recommendation and give the input to test the method**"
   ]
  },
  {
   "cell_type": "markdown",
   "metadata": {},
   "source": [
    "To make the recommendations based on genre, we can firstly find out the genre of the given movie and the other users who have also liked the given movie (movieId). Once these users are known we can get the other movies they have also rated. With the genre of the given movie, we can further narrow the filed of other movies other users have also rated into other movies with the same genre of the given movie the other users have also rated. Then aggregate the rating of the other movies we have found and give the top 5 rated movies. "
   ]
  },
  {
   "cell_type": "markdown",
   "metadata": {},
   "source": [
    "Give the constant input as follows:"
   ]
  },
  {
   "cell_type": "code",
   "execution_count": 70,
   "metadata": {},
   "outputs": [],
   "source": [
    "givenMovieID= 31\n",
    "givenUserID = 1\n",
    "avgRating = 3.0"
   ]
  },
  {
   "cell_type": "markdown",
   "metadata": {},
   "source": [
    "Find the genre of the given movie."
   ]
  },
  {
   "cell_type": "code",
   "execution_count": 71,
   "metadata": {},
   "outputs": [
    {
     "data": {
      "text/plain": [
       "['Drama']"
      ]
     },
     "execution_count": 71,
     "metadata": {},
     "output_type": "execute_result"
    }
   ],
   "source": [
    "genre = movieRDD.filter(lambda x:x[0]==givenMovieID).collect()\n",
    "givenGenre = genre[0][1][1]\n",
    "givenGenre "
   ]
  },
  {
   "cell_type": "markdown",
   "metadata": {},
   "source": [
    "Find the other users who have also liked the given movie. Assuming that user liked a movie can be quantified as user giving a rating of more than avgRating to the given movie."
   ]
  },
  {
   "cell_type": "code",
   "execution_count": 72,
   "metadata": {},
   "outputs": [
    {
     "name": "stdout",
     "output_type": "stream",
     "text": [
      "[31, 32, 73, 110, 111, 165, 242, 325, 341, 485, 487, 496, 511, 516, 525, 607, 641]\n"
     ]
    }
   ],
   "source": [
    "watch = ratingRDD.filter(lambda x:x[0]==givenMovieID and x[1][0]!=givenUserID and x[1][1] > avgRating).map(lambda x:x[1][0])\n",
    "otheruser = watch.collect()\n",
    "print(otheruser)"
   ]
  },
  {
   "cell_type": "markdown",
   "metadata": {},
   "source": [
    "Make the recommendation. Get the RDD of other movies with the same genre of the given movie the other users have also rated. Then map the RDD into a new RDD with each element in the format of a tuple of (Title, Rating). Aggregating the rating of each movie(title) in the new RDD by reduceByKey method. Finally use the takeOrdered method to sort the results and get the result in the format of a tuple of (Title, Aggregate Rating). "
   ]
  },
  {
   "cell_type": "code",
   "execution_count": 73,
   "metadata": {},
   "outputs": [
    {
     "name": "stdout",
     "output_type": "stream",
     "text": [
      "[('Forrest Gump (1994)', 52.0), ('Pulp Fiction (1994)', 51.5), ('Braveheart (1995)', 46.0), ('Dances with Wolves (1990)', 43.0), ('Apollo 13 (1995)', 42.5)]\n"
     ]
    }
   ],
   "source": [
    "mvRDD = newRDD.filter(lambda x: x[0]!=givenMovieID and x[1] != givenUserID and x[1] in otheruser and len(list(set(givenGenre).intersection(set(x[4]))))>0).cache()\n",
    "topMovies = mvRDD.map(lambda x:(x[3], x[2])).reduceByKey(lambda x, y: x + y).takeOrdered(5, key=lambda x: -x[1])\n",
    "print(topMovies)"
   ]
  },
  {
   "cell_type": "markdown",
   "metadata": {},
   "source": [
    "## 2. Movie Recommender based on tags"
   ]
  },
  {
   "cell_type": "markdown",
   "metadata": {},
   "source": [
    "**Step-1:  Read data and data proccessing**"
   ]
  },
  {
   "cell_type": "markdown",
   "metadata": {},
   "source": [
    "Read data from ratings.csv and movie.csv then create corresponding RDDs.\n",
    "\n",
    "From the files, each line in the ratings dataset (ratings.csv) is formatted as: userId,movieId,rating,timestamp.\n",
    "Each line in the movies (movies.csv) dataset is formatted as: movieId,title,genres.\n",
    "Each line in the tags (tags.csv) dataset is formatted as: userId,movieId,tag,timestamp.\n",
    "\n",
    "To load data into RDDs, we can use Python split() to parse each line in the dataset and yield three RDDs:\n",
    "For each line in the ratings dataset, we can create a tuple of (MovieID, (UserID, Rating)).The data in the column of timestamp is dropped because it will not be needed for this recommender. \n",
    "For each line in the movies dataset, we can create a tuple of (MovieID, (Title,Genres)). \n",
    "For each line in the tags dataset, we can create a tuple of (MovieID, Tag).The data in the column of timestamp and userId are dropped because it will not be needed for this recommender. \n",
    "To simplify the data processing, we can also filter out the header of each file when loadind data into RDDs."
   ]
  },
  {
   "cell_type": "code",
   "execution_count": 76,
   "metadata": {},
   "outputs": [],
   "source": [
    "rating = sc.textFile(\"ml-latest-small/ratings.csv\")\n",
    "ratingHeader = rating.take(1)[0]\n",
    "#print(ratingHeader)\n",
    "ratingRDD = rating.filter(lambda line: line!=ratingHeader).map(lambda line: line.split(\",\"))\\\n",
    ".map(lambda line: [int(line[1]),(int(line[0]),float(line[2]))]).cache()\n",
    "#ratingRDD.take(10)"
   ]
  },
  {
   "cell_type": "code",
   "execution_count": 77,
   "metadata": {},
   "outputs": [],
   "source": [
    "movie = sc.textFile(\"ml-latest-small/movies.csv\")\n",
    "movieHeader = movie.take(1)[0]\n",
    "#print(movieHeader)\n",
    "movieRDD = movie.filter(lambda line: line!=movieHeader).map(lambda line: line.split(\",\"))\\\n",
    ".map(lambda line: (int(line[0]),(line[1],line[2].split(\"|\")))).cache()\n",
    "#movieRDD.take(15)"
   ]
  },
  {
   "cell_type": "code",
   "execution_count": 88,
   "metadata": {},
   "outputs": [],
   "source": [
    "tag = sc.textFile(\"ml-latest-small/tags.csv\")\n",
    "tagHeader = tag.take(1)[0]\n",
    "#print(movieHeader)\n",
    "tagRDD = tag.filter(lambda line: line!=tagHeader).map(lambda line: line.split(\",\"))\\\n",
    ".map(lambda line: (int(line[1]),[line[2]])).cache()\n",
    "#tagRDD.take(10)"
   ]
  },
  {
   "cell_type": "markdown",
   "metadata": {},
   "source": [
    "Then join the ratingRDD and movieRDD to create a new RDD with each element in the format of a tuple of (MovieID, UserID, Rating, Title, Genres)."
   ]
  },
  {
   "cell_type": "code",
   "execution_count": 79,
   "metadata": {},
   "outputs": [
    {
     "data": {
      "text/plain": [
       "[(1172, 1, 4.0, 'Cinema Paradiso (Nuovo cinema Paradiso) (1989)', ['Drama']),\n",
       " (1172, 23, 5.0, 'Cinema Paradiso (Nuovo cinema Paradiso) (1989)', ['Drama']),\n",
       " (1172, 38, 4.5, 'Cinema Paradiso (Nuovo cinema Paradiso) (1989)', ['Drama']),\n",
       " (1172, 56, 2.0, 'Cinema Paradiso (Nuovo cinema Paradiso) (1989)', ['Drama']),\n",
       " (1172, 94, 3.5, 'Cinema Paradiso (Nuovo cinema Paradiso) (1989)', ['Drama']),\n",
       " (1172, 102, 4.0, 'Cinema Paradiso (Nuovo cinema Paradiso) (1989)', ['Drama']),\n",
       " (1172, 119, 4.0, 'Cinema Paradiso (Nuovo cinema Paradiso) (1989)', ['Drama']),\n",
       " (1172, 130, 4.0, 'Cinema Paradiso (Nuovo cinema Paradiso) (1989)', ['Drama']),\n",
       " (1172, 133, 5.0, 'Cinema Paradiso (Nuovo cinema Paradiso) (1989)', ['Drama']),\n",
       " (1172, 148, 5.0, 'Cinema Paradiso (Nuovo cinema Paradiso) (1989)', ['Drama'])]"
      ]
     },
     "execution_count": 79,
     "metadata": {},
     "output_type": "execute_result"
    }
   ],
   "source": [
    "newRDD = ratingRDD.join(movieRDD).map(lambda x:(x[0],x[1][0][0],x[1][0][1],x[1][1][0],x[1][1][1]))\n",
    "newRDD.take(10)"
   ]
  },
  {
   "cell_type": "markdown",
   "metadata": {},
   "source": [
    "**Step-2: Use the RDDs generated to make the recommendation and give the input to test the method**"
   ]
  },
  {
   "cell_type": "markdown",
   "metadata": {},
   "source": [
    "To make the recommendations based on tags, we can firstly find out the tag of the given movie and the other users who have also liked the given movie (movieId). Once these users are known we can get the other movies they have also rated. With the tag of the given movie, we can further narrow the filed of other movies other users have also rated into other movies with the same tag of the given movie the other users have also rated. Then aggregate the rating of the other movies we have found and give the top 5 rated movies. "
   ]
  },
  {
   "cell_type": "markdown",
   "metadata": {},
   "source": [
    "Give the constant input as follows:"
   ]
  },
  {
   "cell_type": "code",
   "execution_count": 80,
   "metadata": {},
   "outputs": [],
   "source": [
    "givenMovieID= 1199\n",
    "givenUserID = 77\n",
    "avgRating = 3.0"
   ]
  },
  {
   "cell_type": "markdown",
   "metadata": {},
   "source": [
    "Find the tags of the given movie."
   ]
  },
  {
   "cell_type": "code",
   "execution_count": 83,
   "metadata": {},
   "outputs": [
    {
     "name": "stdout",
     "output_type": "stream",
     "text": [
      "['Trilogy of the Imagination']\n"
     ]
    }
   ],
   "source": [
    "tagcontent = tagRDD.filter(lambda x:x[0]==givenMovieID).collect()\n",
    "#print(tagcontent)\n",
    "givenTag = tagcontent[0][1]\n",
    "print(givenTag)"
   ]
  },
  {
   "cell_type": "markdown",
   "metadata": {},
   "source": [
    "Find other movies with the same tag of the given movie."
   ]
  },
  {
   "cell_type": "code",
   "execution_count": 84,
   "metadata": {},
   "outputs": [
    {
     "name": "stdout",
     "output_type": "stream",
     "text": [
      "[1199, 2968, 4467]\n"
     ]
    }
   ],
   "source": [
    "othermovie = tagRDD.filter(lambda x:len(list(set(givenTag).intersection(set(x[1]))))>0).map(lambda x:x[0]).collect()\n",
    "print(othermovie)"
   ]
  },
  {
   "cell_type": "markdown",
   "metadata": {},
   "source": [
    "Find other users who have also liked the given movie."
   ]
  },
  {
   "cell_type": "code",
   "execution_count": 85,
   "metadata": {},
   "outputs": [
    {
     "name": "stdout",
     "output_type": "stream",
     "text": [
      "[17, 19, 21, 23, 45, 73, 81, 103, 105, 118, 119, 134, 147, 167, 177, 183, 185, 198, 214, 236, 270, 274, 285, 297, 304, 337, 346, 363, 378, 388, 423, 430, 433, 450, 468, 472, 502, 509, 514, 519, 537, 544, 547, 564, 577, 580, 596, 597, 642, 664, 667]\n"
     ]
    }
   ],
   "source": [
    "otheruser = ratingRDD.filter(lambda x:x[0]==givenMovieID and x[1][0]!=givenUserID and x[1][1] > avgRating).map(lambda x:x[1][0]).collect()\n",
    "print(otheruser)"
   ]
  },
  {
   "cell_type": "markdown",
   "metadata": {},
   "source": [
    "Make the recommendation. Get the RDD of other movies with the same tag of the given movie the other users have also rated. Then map the RDD into a new RDD with each element in the format of a tuple of (Title, Rating). Aggregating the rating of each movie(title) in the new RDD by reduceByKey method. Finally use the takeOrdered method to sort the results and get the result in the format of a tuple of (Title, Aggregate Rating). "
   ]
  },
  {
   "cell_type": "code",
   "execution_count": 87,
   "metadata": {},
   "outputs": [
    {
     "name": "stdout",
     "output_type": "stream",
     "text": [
      "[('Time Bandits (1981)', 42.5), ('\"Adventures of Baron Munchausen', 23.5)]\n"
     ]
    }
   ],
   "source": [
    "mvRDD = newRDD.filter(lambda x: x[0]!=givenMovieID and x[1] in otheruser and x[0] in othermovie )\\\n",
    ".map(lambda x:(x[3], x[2])).reduceByKey(lambda x, y: x + y)\n",
    "topMovies = mvRDD.takeOrdered(5, key=lambda x: -x[1])\n",
    "print(topMovies)"
   ]
  },
  {
   "cell_type": "code",
   "execution_count": null,
   "metadata": {},
   "outputs": [],
   "source": []
  }
 ],
 "metadata": {
  "kernelspec": {
   "display_name": "Python 3",
   "language": "python",
   "name": "python3"
  },
  "language_info": {
   "codemirror_mode": {
    "name": "ipython",
    "version": 3
   },
   "file_extension": ".py",
   "mimetype": "text/x-python",
   "name": "python",
   "nbconvert_exporter": "python",
   "pygments_lexer": "ipython3",
   "version": "3.6.5"
  }
 },
 "nbformat": 4,
 "nbformat_minor": 2
}
